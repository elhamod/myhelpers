{
 "cells": [
  {
   "cell_type": "code",
   "execution_count": 2,
   "metadata": {},
   "outputs": [
    {
     "name": "stderr",
     "output_type": "stream",
     "text": [
      "/home/mridul/anaconda3/envs/hgnn/lib/python3.9/site-packages/tqdm/auto.py:22: TqdmWarning: IProgress not found. Please update jupyter and ipywidgets. See https://ipywidgets.readthedocs.io/en/stable/user_install.html\n",
      "  from .autonotebook import tqdm as notebook_tqdm\n"
     ]
    }
   ],
   "source": [
    "import os\n",
    "from CUB_dataloader import CUB_Dataset, datasetManager\n",
    "\n",
    "#from train.configParser import ConfigParser"
   ]
  },
  {
   "cell_type": "code",
   "execution_count": 3,
   "metadata": {},
   "outputs": [],
   "source": [
    "params = {\n",
    "    # Do not change for multi/hyperp experiments\n",
    "    \"image_path\": \"CUB_200_2011\", # # Cifar has no subfolder\n",
    "    \"suffix\":None, #\"curated_30_50\", #  None # used to get a subset cleaned_metadata file. set to None otherwise to use full metadata\n",
    "\n",
    "    # newly added params\n",
    "    \"phylogeny_path\": \"1_tree-consensus-Hacket-AllSpecies.phy\", # name of phlyogeny tree\n",
    "    \"class_to_phlyogeny_mapping\": \"CUB_taxon_reconciliation_corrected.csv\",\n",
    "    \"grayscale\": False,\n",
    "    \n",
    "    # dataset\n",
    "    \"img_res\": 32, #TODO: SHOULD NEVER BE HARCODED\n",
    "    \"augmented\": False,\n",
    "\n",
    "    # training\n",
    "    \"batchSize\": 16, # Bigger is more stable (256)\n",
    "    \"learning_rate\":0.00005, # 0.00005\n",
    "    \"numOfTrials\":5,\n",
    "    \"fc_layers\": 2,\n",
    "    \"modelType\":\"BB\", #BB DISCO DSN HGNN HGNN_cat \"HGNN_add\" \n",
    "    \"lambda\": 0.01,\n",
    "    \"unsupervisedOnTest\": False,\n",
    "    \"tl_model\": \"ResNet18\", # Keep 'ResNet18', 'ResNet50', 'CIFAR', 'NIN'\n",
    "    \"link_layer\": \"avgpool\", # layer name should be consistent with tl_model layer names. avgpool,\"layer3\"\n",
    "    \n",
    "    \"adaptive_smoothing\": False,\n",
    "    \"adaptive_lambda\": 0.015, #optimized for time\n",
    "    \"adaptive_alpha\": 0.8, #optimized for time\n",
    "    \n",
    "    \"noSpeciesBackprop\": False, \n",
    "\n",
    "    \"phylogeny_loss\": False,\n",
    "\n",
    "}"
   ]
  },
  {
   "cell_type": "code",
   "execution_count": 4,
   "metadata": {},
   "outputs": [
    {
     "name": "stdout",
     "output_type": "stream",
     "text": [
      "Creating dataset...\n",
      "Loading dataset...\n",
      "/raid/mridul/CUB/official/CUB_200_2011/subset_images\n",
      "Loading dataset...\n",
      "/raid/mridul/CUB/official/CUB_200_2011/subset_images\n",
      "Creating dataset... Done.\n",
      "Loading saved indices...\n",
      "Creating loaders...\n",
      "Creating loaders... Done.\n"
     ]
    }
   ],
   "source": [
    "experimentsPath=\"/raid/mridul/CUB/experiments/\" # why are we specifying this ?\n",
    "dataPath=\"/raid/mridul/CUB/official/\"\n",
    "\n",
    "manager = datasetManager('')\n",
    "\n",
    "#Fix path:\n",
    "params[\"image_path\"] = os.path.join(dataPath, params[\"image_path\"])\n",
    "params\n",
    "\n",
    "manager.updateParams(params)\n",
    "\n",
    "# generate_CUB_dataset_file(params[\"image_path\"])\n",
    "train_loader, val_loader, test_loader = manager.getLoaders()"
   ]
  },
  {
   "cell_type": "code",
   "execution_count": 7,
   "metadata": {},
   "outputs": [
    {
     "name": "stdout",
     "output_type": "stream",
     "text": [
      "250 125 19\n",
      "300 300 300\n"
     ]
    }
   ],
   "source": [
    "print(len(train_loader), len(val_loader), len(test_loader))\n",
    "print(len(train_loader.dataset), len(val_loader.dataset), len(test_loader.dataset))"
   ]
  },
  {
   "cell_type": "code",
   "execution_count": 9,
   "metadata": {},
   "outputs": [
    {
     "ename": "AttributeError",
     "evalue": "'CUB_Dataset' object has no attribute 'transforms'",
     "output_type": "error",
     "traceback": [
      "\u001b[0;31m---------------------------------------------------------------------------\u001b[0m",
      "\u001b[0;31mAttributeError\u001b[0m                            Traceback (most recent call last)",
      "Cell \u001b[0;32mIn [9], line 1\u001b[0m\n\u001b[0;32m----> 1\u001b[0m train_loader\u001b[38;5;241m.\u001b[39mdataset[\u001b[38;5;241m0\u001b[39m]\n",
      "File \u001b[0;32m~/myhelpers/myhelpers/CUB_dataloader.py:168\u001b[0m, in \u001b[0;36mCUB_Dataset.__getitem__\u001b[0;34m(self, idx)\u001b[0m\n\u001b[1;32m    167\u001b[0m \u001b[39mdef\u001b[39;00m \u001b[39m__getitem__\u001b[39m(\u001b[39mself\u001b[39m, idx):       \n\u001b[0;32m--> 168\u001b[0m     \u001b[39mif\u001b[39;00m \u001b[39mself\u001b[39;49m\u001b[39m.\u001b[39;49mtransforms \u001b[39mis\u001b[39;00m \u001b[39mNone\u001b[39;00m:\n\u001b[1;32m    169\u001b[0m         \u001b[39m# print('transform', self.type_, self.augmentation_enabled)\u001b[39;00m\n\u001b[1;32m    170\u001b[0m         \u001b[39mself\u001b[39m\u001b[39m.\u001b[39mtransforms \u001b[39m=\u001b[39m \u001b[39mself\u001b[39m\u001b[39m.\u001b[39mgetTransforms()\n\u001b[1;32m    171\u001b[0m         \u001b[39m# print(self.transforms)\u001b[39;00m\n\u001b[1;32m    172\u001b[0m         \u001b[39m# print('---')\u001b[39;00m\n",
      "\u001b[0;31mAttributeError\u001b[0m: 'CUB_Dataset' object has no attribute 'transforms'"
     ]
    }
   ],
   "source": [
    "train_loader.dataset[0]"
   ]
  },
  {
   "cell_type": "code",
   "execution_count": null,
   "metadata": {},
   "outputs": [],
   "source": []
  }
 ],
 "metadata": {
  "kernelspec": {
   "display_name": "Python 3.9.13 ('hgnn': conda)",
   "language": "python",
   "name": "python3"
  },
  "language_info": {
   "codemirror_mode": {
    "name": "ipython",
    "version": 3
   },
   "file_extension": ".py",
   "mimetype": "text/x-python",
   "name": "python",
   "nbconvert_exporter": "python",
   "pygments_lexer": "ipython3",
   "version": "3.9.13"
  },
  "orig_nbformat": 4,
  "vscode": {
   "interpreter": {
    "hash": "13197bceb4d052fa03fdaa7862b74e2ecfbe9d331a1f6cae02ca131677627521"
   }
  }
 },
 "nbformat": 4,
 "nbformat_minor": 2
}
