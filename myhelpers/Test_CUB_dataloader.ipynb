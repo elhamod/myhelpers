{
 "cells": [
  {
   "cell_type": "code",
   "execution_count": 26,
   "metadata": {},
   "outputs": [],
   "source": [
    "import os\n",
    "from CUB_dataloader import CUB_Dataset, datasetManager\n",
    "\n",
    "#from train.configParser import ConfigParser"
   ]
  },
  {
   "cell_type": "code",
   "execution_count": 27,
   "metadata": {},
   "outputs": [],
   "source": [
    "params = {\n",
    "    # Do not change for multi/hyperp experiments\n",
    "    \"image_path\": \"CUB_200_2011\", # # Cifar has no subfolder\n",
    "    \"suffix\":None, #\"curated_30_50\", #  None # used to get a subset cleaned_metadata file. set to None otherwise to use full metadata\n",
    "\n",
    "    # newly added params\n",
    "    \"phylogeny_path\": \"1_tree-consensus-Hacket-AllSpecies.phy\", # name of phlyogeny tree\n",
    "    \"class_to_phlyogeny_mapping\": \"CUB_taxon_reconciliation_corrected.csv\",\n",
    "    \"grayscale\": False,\n",
    "    \n",
    "    # dataset\n",
    "    \"img_res\": 32, #TODO: SHOULD NEVER BE HARCODED\n",
    "    \"augmented\": False,\n",
    "\n",
    "    # training\n",
    "    \"batchSize\": 16, # Bigger is more stable (256)\n",
    "    \"learning_rate\":0.00005, # 0.00005\n",
    "    \"numOfTrials\":5,\n",
    "    \"fc_layers\": 2,\n",
    "    \"modelType\":\"BB\", #BB DISCO DSN HGNN HGNN_cat \"HGNN_add\" \n",
    "    \"lambda\": 0.01,\n",
    "    \"unsupervisedOnTest\": False,\n",
    "    \"tl_model\": \"ResNet18\", # Keep 'ResNet18', 'ResNet50', 'CIFAR', 'NIN'\n",
    "    \"link_layer\": \"avgpool\", # layer name should be consistent with tl_model layer names. avgpool,\"layer3\"\n",
    "    \n",
    "    \"adaptive_smoothing\": False,\n",
    "    \"adaptive_lambda\": 0.015, #optimized for time\n",
    "    \"adaptive_alpha\": 0.8, #optimized for time\n",
    "    \n",
    "    \"noSpeciesBackprop\": False, \n",
    "\n",
    "    \"phylogeny_loss\": False,\n",
    "\n",
    "}"
   ]
  },
  {
   "cell_type": "code",
   "execution_count": 32,
   "metadata": {},
   "outputs": [
    {
     "name": "stdout",
     "output_type": "stream",
     "text": [
      "Creating dataset...\n",
      "Loading dataset...\n",
      "/raid/mridul/CUB/official/CUB_200_2011/subset_images\n",
      "Loading dataset...\n",
      "/raid/mridul/CUB/official/CUB_200_2011/subset_images\n",
      "Creating dataset... Done.\n",
      "Loading saved indices...\n",
      "Creating loaders...\n",
      "Creating loaders... Done.\n"
     ]
    }
   ],
   "source": [
    "experimentsPath=\"/raid/mridul/CUB/experiments/\" # why are we specifying this ?\n",
    "dataPath=\"/raid/mridul/CUB/official/\"\n",
    "\n",
    "manager = datasetManager('')\n",
    "\n",
    "#Fix path:\n",
    "params[\"image_path\"] = os.path.join(dataPath, params[\"image_path\"])\n",
    "params\n",
    "\n",
    "manager.updateParams(params)\n",
    "\n",
    "# generate_CUB_dataset_file(params[\"image_path\"])\n",
    "train_loader, val_loader, test_loader = manager.getLoaders()"
   ]
  },
  {
   "cell_type": "code",
   "execution_count": 33,
   "metadata": {},
   "outputs": [
    {
     "name": "stdout",
     "output_type": "stream",
     "text": [
      "250 125 19\n",
      "300 300 300\n"
     ]
    }
   ],
   "source": [
    "print(len(train_loader), len(val_loader), len(test_loader))\n",
    "print(len(train_loader.dataset), len(val_loader.dataset), len(test_loader.dataset))"
   ]
  },
  {
   "cell_type": "code",
   "execution_count": 36,
   "metadata": {},
   "outputs": [
    {
     "data": {
      "text/plain": [
       "{'image': tensor([[[1.1505, 1.1281, 1.1281,  ..., 1.0385, 1.0161, 1.0161],\n",
       "          [1.0161, 1.0385, 1.0385,  ..., 1.1281, 1.1281, 1.1057],\n",
       "          [0.9714, 0.9938, 1.0161,  ..., 1.2177, 1.2177, 1.2401],\n",
       "          ...,\n",
       "          [0.6802, 0.6802, 0.6802,  ..., 0.8818, 0.8818, 0.8818],\n",
       "          [0.7698, 0.7474, 0.7474,  ..., 0.8370, 0.8594, 0.8818],\n",
       "          [0.8146, 0.7922, 0.7698,  ..., 0.7250, 0.7474, 0.7474]],\n",
       " \n",
       "         [[1.2318, 1.2088, 1.2088,  ..., 1.1628, 1.1399, 1.1399],\n",
       "          [1.0939, 1.1169, 1.1169,  ..., 1.2548, 1.2548, 1.2318],\n",
       "          [1.0479, 1.0709, 1.0939,  ..., 1.3468, 1.3468, 1.3698],\n",
       "          ...,\n",
       "          [0.7950, 0.7950, 0.7950,  ..., 1.0019, 1.0019, 1.0019],\n",
       "          [0.8869, 0.8640, 0.8640,  ..., 0.9559, 0.9789, 1.0019],\n",
       "          [0.9329, 0.9099, 0.8869,  ..., 0.9099, 0.9329, 0.9329]],\n",
       " \n",
       "         [[1.5413, 1.5192, 1.5192,  ..., 1.4530, 1.4309, 1.4309],\n",
       "          [1.4089, 1.4309, 1.4309,  ..., 1.5413, 1.5413, 1.5192],\n",
       "          [1.3647, 1.3868, 1.4089,  ..., 1.6296, 1.6296, 1.6517],\n",
       "          ...,\n",
       "          [1.0998, 1.0998, 1.0998,  ..., 1.2543, 1.2543, 1.2543],\n",
       "          [1.1881, 1.1660, 1.1660,  ..., 1.2102, 1.2323, 1.2543],\n",
       "          [1.2323, 1.2102, 1.1881,  ..., 1.1440, 1.1660, 1.1660]]])}"
      ]
     },
     "execution_count": 36,
     "metadata": {},
     "output_type": "execute_result"
    }
   ],
   "source": [
    "train_loader.dataset[0]"
   ]
  },
  {
   "cell_type": "code",
   "execution_count": 19,
   "metadata": {},
   "outputs": [
    {
     "ename": "KeyError",
     "evalue": "'distance_matrix'",
     "output_type": "error",
     "traceback": [
      "\u001b[0;31m---------------------------------------------------------------------------\u001b[0m",
      "\u001b[0;31mKeyError\u001b[0m                                  Traceback (most recent call last)",
      "Cell \u001b[0;32mIn [19], line 1\u001b[0m\n\u001b[0;32m----> 1\u001b[0m \u001b[43mtest_loader\u001b[49m\u001b[38;5;241;43m.\u001b[39;49m\u001b[43mdataset\u001b[49m\u001b[43m[\u001b[49m\u001b[38;5;241;43m0\u001b[39;49m\u001b[43m]\u001b[49m\u001b[43m[\u001b[49m\u001b[38;5;124;43m'\u001b[39;49m\u001b[38;5;124;43mdistance_matrix\u001b[39;49m\u001b[38;5;124;43m'\u001b[39;49m\u001b[43m]\u001b[49m\n",
      "\u001b[0;31mKeyError\u001b[0m: 'distance_matrix'"
     ]
    }
   ],
   "source": [
    "test_loader.dataset[0]"
   ]
  },
  {
   "cell_type": "code",
   "execution_count": null,
   "metadata": {},
   "outputs": [],
   "source": []
  }
 ],
 "metadata": {
  "kernelspec": {
   "display_name": "Python 3.9.13 ('hgnn': conda)",
   "language": "python",
   "name": "python3"
  },
  "language_info": {
   "codemirror_mode": {
    "name": "ipython",
    "version": 3
   },
   "file_extension": ".py",
   "mimetype": "text/x-python",
   "name": "python",
   "nbconvert_exporter": "python",
   "pygments_lexer": "ipython3",
   "version": "3.9.13"
  },
  "orig_nbformat": 4,
  "vscode": {
   "interpreter": {
    "hash": "13197bceb4d052fa03fdaa7862b74e2ecfbe9d331a1f6cae02ca131677627521"
   }
  }
 },
 "nbformat": 4,
 "nbformat_minor": 2
}
